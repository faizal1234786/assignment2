{
  "nbformat": 4,
  "nbformat_minor": 0,
  "metadata": {
    "colab": {
      "provenance": [],
      "collapsed_sections": []
    },
    "kernelspec": {
      "name": "python3",
      "display_name": "Python 3"
    },
    "language_info": {
      "name": "python"
    }
  },
  "cells": [
    {
      "cell_type": "code",
      "source": [
        "'''\n",
        "\tPackage: cs771\n",
        "\tModule: assn2Utils\n",
        "\tAuthor: Puru\n",
        "\tInstitution: CSE, IIT Kanpur\n",
        "\tLicense: GNU GPL v3.0\n",
        "\t\n",
        "\tVarious utilities for multi-label learning problems\n",
        "'''\n",
        "\n",
        "import numpy as np\n",
        "from sklearn.datasets import load_svmlight_file\n",
        "from sklearn.datasets import dump_svmlight_file\n",
        "from sklearn.tree import DecisionTreeClassifier\n",
        "from sklearn.metrics import accuracy_score\n",
        "from scipy import sparse as sps\n",
        "from sklearn.model_selection import train_test_split\n",
        "import time as tm\n",
        "import pandas as pd\n",
        "\n",
        "def loadData( filename, dictSize = 225 ):\n",
        "\tX, y = load_svmlight_file( filename, multilabel = False, n_features = dictSize, offset = 1 )\n",
        "\tprint(y)\n",
        "\treturn (X, y)\n"
      ],
      "metadata": {
        "id": "q4KER-O9O-Ym"
      },
      "execution_count": null,
      "outputs": []
    },
    {
      "cell_type": "code",
      "source": [
        "\n",
        "\n",
        "# This file is intended to demonstrate how we would evaluate your code\n",
        "# The data loader needs to know how many feature dimensions are there\n",
        "dictSize = 225\n",
        "(X, y) = loadData(\"train\", dictSize = dictSize )\n",
        "Xtrain, Xtest, ytrain, ytest = train_test_split(X, y, test_size=0.3)\n",
        "\n",
        "X=X.todense()\n",
        "print(X)\n"
      ],
      "metadata": {
        "colab": {
          "base_uri": "https://localhost:8080/"
        },
        "id": "CQmDR6o0OtWf",
        "outputId": "204f1fb6-4e21-403a-f19f-f7736e7eb37e"
      },
      "execution_count": null,
      "outputs": [
        {
          "output_type": "stream",
          "name": "stdout",
          "text": [
            "[ 1.  2.  4. ...  2. 32.  3.]\n",
            "[[0. 0. 2. ... 0. 0. 0.]\n",
            " [0. 0. 0. ... 0. 0. 0.]\n",
            " [0. 0. 0. ... 0. 0. 0.]\n",
            " ...\n",
            " [0. 0. 0. ... 0. 0. 0.]\n",
            " [0. 0. 0. ... 0. 0. 0.]\n",
            " [0. 0. 0. ... 0. 0. 0.]]\n"
          ]
        }
      ]
    },
    {
      "cell_type": "code",
      "execution_count": null,
      "metadata": {
        "colab": {
          "base_uri": "https://localhost:8080/"
        },
        "id": "xNnzFVOOM2bO",
        "outputId": "99caf9ad-3720-4bf6-dd57-43c19b7541f9"
      },
      "outputs": [
        {
          "output_type": "stream",
          "name": "stdout",
          "text": [
            "0.752\n",
            "Model accuracy score with criterion gini index: 0.7520\n",
            "Training set score: 0.9184\n",
            "Test set score: 0.7520\n"
          ]
        },
        {
          "output_type": "execute_result",
          "data": {
            "text/plain": [
              "array([[0.02697095, 0.96680498, 0.        , ..., 0.        , 0.        ,\n",
              "        0.        ],\n",
              "       [1.        , 0.        , 0.        , ..., 0.        , 0.        ,\n",
              "        0.        ],\n",
              "       [0.5       , 0.5       , 0.        , ..., 0.        , 0.        ,\n",
              "        0.        ],\n",
              "       ...,\n",
              "       [1.        , 0.        , 0.        , ..., 0.        , 0.        ,\n",
              "        0.        ],\n",
              "       [0.        , 0.        , 0.        , ..., 0.        , 0.        ,\n",
              "        0.        ],\n",
              "       [0.        , 0.        , 0.        , ..., 0.        , 0.        ,\n",
              "        0.        ]])"
            ]
          },
          "metadata": {},
          "execution_count": 71
        }
      ],
      "source": [
        "decision_tree = DecisionTreeClassifier(criterion='gini', splitter='best',max_depth = 20)\n",
        "decision_tree = decision_tree.fit(Xtrain, ytrain)\n",
        "predict = (decision_tree.predict(Xtest))\n",
        "print(np.average(ytest == predict ))\n",
        "\n",
        "\n",
        "print('Model accuracy score with criterion gini index: {0:0.4f}'. format(accuracy_score(ytest, predict)))\n",
        "print('Training set score: {:.4f}'.format(decision_tree.score(Xtrain, ytrain)))\n",
        "\n",
        "print('Test set score: {:.4f}'.format(decision_tree.score(Xtest, ytest)))\n",
        "decision_tree.predict_proba(Xtest)"
      ]
    },
    {
      "cell_type": "code",
      "source": [
        "def precision_k(k,x,y):\n",
        "  if y in x[:k]:\n",
        "    return 1\n",
        "  else:\n",
        "    return 0\n",
        "\n",
        "precsion_value_k = 5\n",
        "for k in range(1, precsion_value_k+1):\n",
        "  precision_array = []\n",
        "  for i in range(Xtest.shape[0]):\n",
        "    b = decision_tree.predict_proba(Xtest[i])\n",
        "    b = np.insert(b, 0, -1)\n",
        "    x_sorted = np.argsort(b)[-precsion_value_k:]\n",
        "    s = x_sorted[::-1]\n",
        "    precision_array.append(precision_k(k,s,ytest[i]))\n",
        "  print(np.average(precision_array))\n"
      ],
      "metadata": {
        "colab": {
          "base_uri": "https://localhost:8080/"
        },
        "id": "u9aayh2t8vDW",
        "outputId": "f4fbc219-9afa-43aa-a360-f85a157699a7"
      },
      "execution_count": null,
      "outputs": [
        {
          "output_type": "stream",
          "name": "stdout",
          "text": [
            "0.7386666666666667\n",
            "0.7856666666666666\n",
            "0.7956666666666666\n",
            "0.8026666666666666\n",
            "0.8076666666666666\n"
          ]
        }
      ]
    },
    {
      "cell_type": "code",
      "source": [
        "c = 50\n",
        "\n",
        "def macro_precision_k(k,x,y):\n",
        "  if y in x[:k]:\n",
        "    return y\n",
        "  else:\n",
        "    return x[0]\n",
        "\n",
        "precsion_value_k = 5\n",
        "for k in range(1, precsion_value_k+1):\n",
        "  predict_class_predict = np.zeros(c+1, dtype=int)\n",
        "  predict_class_actual = np.zeros(c+1, dtype= int)\n",
        "  for i in range(Xtest.shape[0]):\n",
        "    b = decision_tree.predict_proba(Xtest[i])\n",
        "    b = np.insert(b,0,-1)\n",
        "    x_sorted = np.argsort(b)[-5:]\n",
        "    s = x_sorted[::-1]\n",
        "    m = macro_precision_k(k,s,ytest[i])\n",
        "    predict_class_actual[int(ytest[i])] += 1\n",
        "    predict_class_predict[int(m)] += 1\n",
        "\n",
        "  fractions = []\n",
        "  for i in range(c+1):\n",
        "    # print(i, predict_class_predict[i], predict_class_actual[i])\n",
        "    if predict_class_predict[i] != 0 and predict_class_actual[i] != 0:\n",
        "      fractions.append(min(predict_class_predict[i], predict_class_actual[i])/max(predict_class_predict[i], predict_class_actual[i]))\n",
        "    else:\n",
        "      fractions.append(0)\n",
        "\n",
        "  print(np.average(fractions))"
      ],
      "metadata": {
        "colab": {
          "base_uri": "https://localhost:8080/"
        },
        "id": "AhgctscB9A9F",
        "outputId": "f29f7a9e-b54e-4e69-beb0-e93354551ecf"
      },
      "execution_count": null,
      "outputs": [
        {
          "output_type": "stream",
          "name": "stdout",
          "text": [
            "0.608605256836401\n",
            "0.6509264904198881\n",
            "0.6667030984355073\n",
            "0.6719975148178279\n",
            "0.672500199206449\n"
          ]
        }
      ]
    },
    {
      "cell_type": "code",
      "source": [],
      "metadata": {
        "id": "MxHNs4T94lmA"
      },
      "execution_count": null,
      "outputs": []
    }
  ]
}